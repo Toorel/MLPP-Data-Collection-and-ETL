{
 "cells": [
  {
   "cell_type": "code",
   "execution_count": 4,
   "id": "6111f9a1-1f24-47f3-b285-9d5d7f1c417b",
   "metadata": {},
   "outputs": [
    {
     "name": "stdout",
     "output_type": "stream",
     "text": [
      "Connected\n"
     ]
    }
   ],
   "source": [
    "import requests as re #request the api\n",
    "import json\n",
    "import pandas as pd\n",
    "from pandas import json_normalize\n",
    "import psycopg2 as ps\n",
    "\n",
    "url = 'https://api.census.gov/data/2019/acs/acs1/profile?get=NAME,DP02_0001E,DP02_0002E,DP02_0003E,DP02_0015E,DP02_0017E,DP02_0098E,DP02_0152E&for=state:11&key=e8ab83515848f49fc1fa51fc3b0e41794ac52c17'\n",
    "\n",
    "response = re.get(url)\n",
    "\n",
    "json = response.json() #extract json structured data from the request\n",
    "json\n",
    "\n",
    "CensusData =pd.DataFrame(response.json()[1:], columns=response.json()[0])\n",
    "CensusData\n",
    "\n",
    "def connect_to_db(host, database, port, user, password):\n",
    "    try:\n",
    "        conn = ps.connect(host=host, database=database, user=user, password=password, port=port)\n",
    "\n",
    "    except ps.OperationalError as e:\n",
    "        raise e\n",
    "    else:\n",
    "        print('Connected')\n",
    "    return conn\n",
    "\n",
    "host= 'acs-db.mlpolicylab.dssg.io'\n",
    "port= '5432'\n",
    "user= 'mlpp_student'\n",
    "password= 'CARE-horse-most'\n",
    "database= 'acs_data_loading'\n",
    "conn = None\n",
    "\n",
    "conn = connect_to_db(host, database, port, user, password)\n",
    "\n",
    "\n",
    "#Next Create Database Table\n",
    "def create_table(curr):\n",
    "    create_table_command = (\"\"\"CREATE TABLE IF NOT EXISTS olasebik_acs_data (\n",
    "                    NAME CHAR PRIMARY KEY,\n",
    "                    DPO2_0001E INTEGER NOT NULL,\n",
    "                    DPO2_0002E INTEGER NOT NULL,\n",
    "                    DPO2_0003E INTEGER NOT NULL,\n",
    "                    DPO2_0015E INTEGER NOT NULL,\n",
    "                    DPO2_0017E INTEGER NOT NULL,\n",
    "                    DPO2_0098E INTEGER NOT NULL,\n",
    "                    DPO2_0152E INTEGER NOT NULL,\n",
    "                    state CHAR NOT NULL\n",
    "                    )\"\"\")\n",
    "    curr.execute(create_table_command)\n",
    "\n",
    "create_table(curr)\n",
    "\n",
    "curr = conn.cursor()\n",
    "\n",
    "conn.commit()"
   ]
  },
  {
   "cell_type": "code",
   "execution_count": null,
   "id": "602d6eca-be03-4e42-895b-93f0662d82e6",
   "metadata": {},
   "outputs": [],
   "source": []
  }
 ],
 "metadata": {
  "kernelspec": {
   "display_name": "Python 3 (ipykernel)",
   "language": "python",
   "name": "python3"
  },
  "language_info": {
   "codemirror_mode": {
    "name": "ipython",
    "version": 3
   },
   "file_extension": ".py",
   "mimetype": "text/x-python",
   "name": "python",
   "nbconvert_exporter": "python",
   "pygments_lexer": "ipython3",
   "version": "3.8.11"
  }
 },
 "nbformat": 4,
 "nbformat_minor": 5
}
