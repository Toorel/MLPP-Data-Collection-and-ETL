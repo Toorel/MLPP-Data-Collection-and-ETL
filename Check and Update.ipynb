{
 "cells": [
  {
   "cell_type": "code",
   "execution_count": null,
   "id": "3557f769-53c1-444b-ae37-48c3d25a9e9b",
   "metadata": {},
   "outputs": [],
   "source": [
    "#check if data exists\n",
    "def check_if_data_exists(curr):\n",
    "    query = (\"\"\"SELECT NAME FROM olasebik_acs_data WHERE NAME = %s\"\"\")\n",
    "    curr.execute(query, (NAME,))\n",
    "    \n",
    "    return curr.fetchone() is not None #returns a single row from a table\n",
    "\n",
    "#check to see if a data exists\n",
    "def update_db(curr,NAME):\n",
    "    tmp_df = pd.DataFrame(columns=['NAME', 'DPO2_0001E', 'DPO2_0002E', 'DPO2_0003E', 'DPO2_0015E', 'DPO2_0017E', 'DPO2_0098E','DPO2_0152E', 'state'])\n",
    "\n",
    "    for i, row in CensusData.iterrows():\n",
    "        if check_if_data_exists(curr):\n",
    "            update_row(curr, row['NAME'], row['DPO2_0001E'], row['DPO2_0002E'], row['DPO2_0003E'], row['DPO2_0015E'], row['DPO2_0017E'], row['DPO2_0098E'],row['DPO2_0152E'], row['state'])\n",
    "        else:  #The data does not exist so we will join to the database\n",
    "            tmp_df = tmp_df.append(row)\n",
    "    return tmp_df\n",
    "\n",
    "#update row if data exists\n",
    "def update_row(curr, NAME, DPO2_0001E, DPO2_0002E, DPO2_0003E, DPO2_0015E, DPO2_0017E, DPO2_0098E,DPO2_0152E, state):\n",
    "    query = (\"\"\"UPDATE olasebik_acs_data\n",
    "            SET NAME CHAR PRIMARY KEY,\n",
    "                DPO2_0001E =%s,\n",
    "                DPO2_0002E =%s,\n",
    "                DPO2_0003E =%s,\n",
    "                DPO2_0015E =%s,\n",
    "                DPO2_0017E =%s,\n",
    "                DPO2_0098E =%s,\n",
    "                DPO2_0152E =%s,\n",
    "                state =%s\n",
    "            WHERE NAME = %S;\"\"\")\n",
    "    vars_to_update = (NAME, DPO2_0001E, DPO2_0002E, DPO2_0003E, DPO2_0015E, DPO2_0017E, DPO2_0098E,DPO2_0152E, state)\n",
    "    curr.execute(query, vars_to_update)\n",
    "    \n",
    "    \n",
    "#write insert command\n",
    "\n",
    "def insert_into_table(curr, NAME, DPO2_0001E, DPO2_0002E, DPO2_0003E, DPO2_0015E, DPO2_0017E, DPO2_0098E,DPO2_0152E, state):\n",
    "    insert_into_data = (\"\"\"INSERT INTO olasebik_acs_data (NAME, DPO2_0001E, DPO2_0002E, DPO2_0003E, DPO2_0015E, DPO2_0017E, DPO2_0098E,DPO2_0152E, state)\n",
    "    VALUES(%s, $s, $s, %s, %s, %s, %s);\"\"\")\n",
    "    row_to_insert = (NAME, DPO2_0001E, DPO2_0002E, DPO2_0003E, DPO2_0015E, DPO2_0017E, DPO2_0098E,DPO2_0152E, state)\n",
    "    curr.execute(insert_into_data, row_to_insert)\n",
    "    \n",
    "def append_from_df_to_db(curr,CensusData):\n",
    "    for i, row in CensusData.iterrows():\n",
    "        insert_into_table(curr, row['NAME'], row['DPO2_0001E'], row['DPO2_0002E'], row['DPO2_0003E'], row['DPO2_0015E'], row['DPO2_0017E'], row['DPO2_0098E'],row['DPO2_0152E'], row['state'])"
   ]
  }
 ],
 "metadata": {
  "kernelspec": {
   "display_name": "Python 3 (ipykernel)",
   "language": "python",
   "name": "python3"
  },
  "language_info": {
   "codemirror_mode": {
    "name": "ipython",
    "version": 3
   },
   "file_extension": ".py",
   "mimetype": "text/x-python",
   "name": "python",
   "nbconvert_exporter": "python",
   "pygments_lexer": "ipython3",
   "version": "3.8.11"
  }
 },
 "nbformat": 4,
 "nbformat_minor": 5
}
